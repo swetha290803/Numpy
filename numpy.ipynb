{
  "nbformat": 4,
  "nbformat_minor": 0,
  "metadata": {
    "colab": {
      "provenance": []
    },
    "kernelspec": {
      "name": "python3",
      "display_name": "Python 3"
    },
    "language_info": {
      "name": "python"
    }
  },
  "cells": [
    {
      "cell_type": "markdown",
      "source": [
        "numpy arrays are nothing but it is an numberical python and these are similar to lists and tuplles\n",
        "advantages over lists:\n",
        "1. allows several mathematical opeartaions\n",
        "2. faster opearations"
      ],
      "metadata": {
        "id": "SvDJlkAa2sMo"
      }
    },
    {
      "cell_type": "code",
      "source": [
        "#importing numpy\n",
        "import numpy as np"
      ],
      "metadata": {
        "id": "syPf78tE29FS"
      },
      "execution_count": 14,
      "outputs": []
    },
    {
      "cell_type": "code",
      "source": [
        "#import the process time\n",
        "from time import process_time"
      ],
      "metadata": {
        "id": "vcjTA6fG3Ykp"
      },
      "execution_count": 5,
      "outputs": []
    },
    {
      "cell_type": "markdown",
      "source": [
        "lets check the prcessing time(time taken to run) for lists and numpy\n",
        "LIST VS NUMPY"
      ],
      "metadata": {
        "id": "Og393LiZ3DbD"
      }
    },
    {
      "cell_type": "code",
      "source": [
        "#lists\n",
        "list = [i for i in range(10,000)]\n",
        "start_time = process_time()\n",
        "list = [i + 5 for i in list]#here i am taking all values from the list and adding 5 to the each value\n",
        "end_time = process_time()\n",
        "print(end_time - start_time)#for calculating process time"
      ],
      "metadata": {
        "colab": {
          "base_uri": "https://localhost:8080/"
        },
        "id": "YnAKGzBH2_-A",
        "outputId": "32339b7f-658b-4eb9-8264-301abac8ca38"
      },
      "execution_count": 6,
      "outputs": [
        {
          "output_type": "stream",
          "name": "stdout",
          "text": [
            "0.00011727999999999739\n"
          ]
        }
      ]
    },
    {
      "cell_type": "code",
      "source": [
        "#numpy array\n",
        "import numpy as np\n",
        "np_array = np.array([i for i in range(10,000)])\n",
        "start_time = process_time()\n",
        "np_array = np_array + 5#here i am adding 5 to the each value.... we can also write np_array += 5\n",
        "end_time = process_time()\n",
        "print(end_time - start_time)#for calculating process time"
      ],
      "metadata": {
        "id": "2Th5yMPXMcvY",
        "colab": {
          "base_uri": "https://localhost:8080/"
        },
        "outputId": "136aa742-917a-4572-fd2f-57fd913d177b"
      },
      "execution_count": 7,
      "outputs": [
        {
          "output_type": "stream",
          "name": "stdout",
          "text": [
            "0.00013985100000013517\n"
          ]
        }
      ]
    },
    {
      "cell_type": "markdown",
      "source": [
        "here we observed that processing speed is fast in numpy array compared to lists"
      ],
      "metadata": {
        "id": "pq-Xb_XNNz4d"
      }
    },
    {
      "cell_type": "markdown",
      "source": [
        "creating numpy array"
      ],
      "metadata": {
        "id": "setpOcY5N7z-"
      }
    },
    {
      "cell_type": "code",
      "source": [
        "#create lists\n",
        "list = [1,2,3,4]\n",
        "print(list)\n",
        "type(list)"
      ],
      "metadata": {
        "id": "a9vnCUFzMcxH",
        "colab": {
          "base_uri": "https://localhost:8080/"
        },
        "outputId": "0a25b0f8-a1af-4ef1-aaf0-d6f7b65a8822"
      },
      "execution_count": 8,
      "outputs": [
        {
          "output_type": "stream",
          "name": "stdout",
          "text": [
            "[1, 2, 3, 4]\n"
          ]
        },
        {
          "output_type": "execute_result",
          "data": {
            "text/plain": [
              "list"
            ]
          },
          "metadata": {},
          "execution_count": 8
        }
      ]
    },
    {
      "cell_type": "code",
      "source": [
        "#creating numpy array\n",
        "np_array = np.array([1,2,3,4])\n",
        "print(np_array)\n",
        "type(np_array)"
      ],
      "metadata": {
        "id": "62Iv7MczMcyh",
        "colab": {
          "base_uri": "https://localhost:8080/"
        },
        "outputId": "86926e12-b079-4ff3-8f9f-e11b5c7cefa8"
      },
      "execution_count": 9,
      "outputs": [
        {
          "output_type": "stream",
          "name": "stdout",
          "text": [
            "[1 2 3 4]\n"
          ]
        },
        {
          "output_type": "execute_result",
          "data": {
            "text/plain": [
              "numpy.ndarray"
            ]
          },
          "metadata": {},
          "execution_count": 9
        }
      ]
    },
    {
      "cell_type": "markdown",
      "source": [
        "here nd denotes n dimesions and as we observe in lists the values are seperated using commas where as in array there are no commas"
      ],
      "metadata": {
        "id": "tPmbNGaXOUkf"
      }
    },
    {
      "cell_type": "markdown",
      "source": [
        "creating onde dimesnisonal array"
      ],
      "metadata": {
        "id": "v2jROPhfOc05"
      }
    },
    {
      "cell_type": "code",
      "source": [
        "a = np.array([1,2,3,4])\n",
        "print(a)\n",
        "a.shape"
      ],
      "metadata": {
        "colab": {
          "base_uri": "https://localhost:8080/"
        },
        "id": "C0H5Y2_zOSm5",
        "outputId": "e2938d7e-b5fa-4c04-eb6e-4ef26fa4848a"
      },
      "execution_count": 10,
      "outputs": [
        {
          "output_type": "stream",
          "name": "stdout",
          "text": [
            "[1 2 3 4]\n"
          ]
        },
        {
          "output_type": "execute_result",
          "data": {
            "text/plain": [
              "(4,)"
            ]
          },
          "metadata": {},
          "execution_count": 10
        }
      ]
    },
    {
      "cell_type": "markdown",
      "source": [
        "here 4 denotes no of rows"
      ],
      "metadata": {
        "id": "BFmWHp-xOpzM"
      }
    },
    {
      "cell_type": "markdown",
      "source": [
        "creating 2D array"
      ],
      "metadata": {
        "id": "LfTwTSwmOsal"
      }
    },
    {
      "cell_type": "code",
      "source": [
        "a = np.array([[1,2,3,4],[5,6,7,8]])\n",
        "print(a)\n",
        "a.shape"
      ],
      "metadata": {
        "colab": {
          "base_uri": "https://localhost:8080/"
        },
        "id": "RflCbt-5Ou71",
        "outputId": "cc2d9f26-2039-434f-b256-86ae63450d0a"
      },
      "execution_count": 17,
      "outputs": [
        {
          "output_type": "stream",
          "name": "stdout",
          "text": [
            "[[1 2 3 4]\n",
            " [5 6 7 8]]\n"
          ]
        },
        {
          "output_type": "execute_result",
          "data": {
            "text/plain": [
              "(2, 4)"
            ]
          },
          "metadata": {},
          "execution_count": 17
        }
      ]
    },
    {
      "cell_type": "markdown",
      "source": [
        "here 2 denotes rows and 4 denotes columns"
      ],
      "metadata": {
        "id": "poLaYkjAPlbo"
      }
    },
    {
      "cell_type": "markdown",
      "source": [
        "converting the element of array from int to float"
      ],
      "metadata": {
        "id": "UYGHHlXbPp3j"
      }
    },
    {
      "cell_type": "code",
      "source": [
        "a = np.array([[1,2,3,4],[5,6,7,8]],dtype = float)\n",
        "print(a)"
      ],
      "metadata": {
        "colab": {
          "base_uri": "https://localhost:8080/"
        },
        "id": "yfKjFF2ePtCW",
        "outputId": "4e413dac-d959-4932-c270-9f8762f365c2"
      },
      "execution_count": 18,
      "outputs": [
        {
          "output_type": "stream",
          "name": "stdout",
          "text": [
            "[[1. 2. 3. 4.]\n",
            " [5. 6. 7. 8.]]\n"
          ]
        }
      ]
    },
    {
      "cell_type": "markdown",
      "source": [
        "initial placeholders in numpy arrays:which means all values in array are same like all zeroes or ones or any number"
      ],
      "metadata": {
        "id": "QVYTamPHQZxR"
      }
    },
    {
      "cell_type": "code",
      "source": [
        "#numpy array of zeroes\n",
        "a = np.zeros((4,5))\n",
        "print(a)\n",
        "#here 4,5 reperesnts shaape which means how many rows and cols should my array consist"
      ],
      "metadata": {
        "colab": {
          "base_uri": "https://localhost:8080/"
        },
        "id": "P2YnF48LQdnJ",
        "outputId": "52e5be66-80c4-4605-c03c-d92dbbade637"
      },
      "execution_count": 20,
      "outputs": [
        {
          "output_type": "stream",
          "name": "stdout",
          "text": [
            "[[0. 0. 0. 0. 0.]\n",
            " [0. 0. 0. 0. 0.]\n",
            " [0. 0. 0. 0. 0.]\n",
            " [0. 0. 0. 0. 0.]]\n"
          ]
        }
      ]
    },
    {
      "cell_type": "code",
      "source": [
        "#numpy array of ones\n",
        "a = np.ones((2,3))\n",
        "print(a)"
      ],
      "metadata": {
        "colab": {
          "base_uri": "https://localhost:8080/"
        },
        "id": "5ugenXwpPtId",
        "outputId": "911bf551-9eea-4649-865b-8df18b9d1e99"
      },
      "execution_count": 21,
      "outputs": [
        {
          "output_type": "stream",
          "name": "stdout",
          "text": [
            "[[1. 1. 1.]\n",
            " [1. 1. 1.]]\n"
          ]
        }
      ]
    },
    {
      "cell_type": "code",
      "source": [
        "#numpy array of particluar value\n",
        "a = np.full((3,2),7)\n",
        "print(a)\n",
        "#here 7 indicates the number with which i want to create an array"
      ],
      "metadata": {
        "colab": {
          "base_uri": "https://localhost:8080/"
        },
        "id": "qVuK-VMhO4cO",
        "outputId": "0c83cd46-bd76-4c06-81f1-0571586cd41d"
      },
      "execution_count": 22,
      "outputs": [
        {
          "output_type": "stream",
          "name": "stdout",
          "text": [
            "[[7 7]\n",
            " [7 7]\n",
            " [7 7]]\n"
          ]
        }
      ]
    },
    {
      "cell_type": "code",
      "source": [
        "#creating an identity matrix\n",
        "#here we no need to mention any rows or columns as identity matrix has same rows and columns\n",
        "a = np.eye(4)\n",
        "print(a)\n",
        "#here 4 rep both rows and cols\n",
        "\n"
      ],
      "metadata": {
        "colab": {
          "base_uri": "https://localhost:8080/"
        },
        "id": "016vyH-ARZKD",
        "outputId": "d44d928c-a75a-4a5b-cd8e-dca834408d8d"
      },
      "execution_count": 23,
      "outputs": [
        {
          "output_type": "stream",
          "name": "stdout",
          "text": [
            "[[1. 0. 0. 0.]\n",
            " [0. 1. 0. 0.]\n",
            " [0. 0. 1. 0.]\n",
            " [0. 0. 0. 1.]]\n"
          ]
        }
      ]
    },
    {
      "cell_type": "code",
      "source": [
        "#creating a numpy with random values\n",
        "a = np.random.random((3,4))\n",
        "print(a)\n",
        "#here all values are in the range of 0 and 1 and this values change everytm we run"
      ],
      "metadata": {
        "colab": {
          "base_uri": "https://localhost:8080/"
        },
        "id": "-IrBaK_mRrwt",
        "outputId": "3dd96f74-2ca5-4375-b3c2-1b3de96edc09"
      },
      "execution_count": 25,
      "outputs": [
        {
          "output_type": "stream",
          "name": "stdout",
          "text": [
            "[[0.85948369 0.79147495 0.91386011 0.13292422]\n",
            " [0.10893103 0.41193039 0.85024294 0.60345819]\n",
            " [0.59799166 0.37202589 0.11091922 0.76430226]]\n"
          ]
        }
      ]
    },
    {
      "cell_type": "code",
      "source": [
        "#creating random integer values within specific range\n",
        "a = np.random.randint(10,100,(3,4))\n",
        "print(a)\n",
        "#here 10,100 indicates the range and 3,4 indicates shape"
      ],
      "metadata": {
        "colab": {
          "base_uri": "https://localhost:8080/"
        },
        "id": "m-3wQLRZR2RO",
        "outputId": "851ade73-3a35-4c4f-ba79-8ebb1a4288d2"
      },
      "execution_count": 28,
      "outputs": [
        {
          "output_type": "stream",
          "name": "stdout",
          "text": [
            "[[87 59 14 98]\n",
            " [80 83 16 70]\n",
            " [47 70 82 57]]\n"
          ]
        }
      ]
    },
    {
      "cell_type": "code",
      "source": [
        "#creating an array of evenly spaced value\n",
        "a = np.linspace(10,30,5)\n",
        "print(a)\n",
        "#here 10and 30 indicates range where as 5 indicates the number of numbers should be print\n",
        "b = np.linspace(10,20,4)\n",
        "print(b)"
      ],
      "metadata": {
        "colab": {
          "base_uri": "https://localhost:8080/"
        },
        "id": "iYY-27ORSOxK",
        "outputId": "36484f61-e102-44b7-c48d-881cf447f256"
      },
      "execution_count": 32,
      "outputs": [
        {
          "output_type": "stream",
          "name": "stdout",
          "text": [
            "[10. 15. 20. 25. 30.]\n",
            "[10.         13.33333333 16.66666667 20.        ]\n"
          ]
        }
      ]
    },
    {
      "cell_type": "code",
      "source": [
        "#creating an array of evenly space specifing step\n",
        "a = np.arange(10,30,5)\n",
        "print(a)\n",
        "#here 5 indicates that the number should be skipped five times"
      ],
      "metadata": {
        "colab": {
          "base_uri": "https://localhost:8080/"
        },
        "id": "8auabNmVSrYS",
        "outputId": "5043bc9f-e7a6-480d-f501-dd4d9c43eed9"
      },
      "execution_count": 33,
      "outputs": [
        {
          "output_type": "stream",
          "name": "stdout",
          "text": [
            "[10 15 20 25]\n"
          ]
        }
      ]
    },
    {
      "cell_type": "code",
      "source": [
        "#converting an list to numpy\n",
        "list = [1,2,3,4]\n",
        "np_array = np.asarray(list)\n",
        "print(np_array)\n",
        "type(np_array)"
      ],
      "metadata": {
        "colab": {
          "base_uri": "https://localhost:8080/"
        },
        "id": "WXOyW8q5TO71",
        "outputId": "fcbcadf9-f4b6-4d88-cbb7-e51847c3bf43"
      },
      "execution_count": 34,
      "outputs": [
        {
          "output_type": "stream",
          "name": "stdout",
          "text": [
            "[1 2 3 4]\n"
          ]
        },
        {
          "output_type": "execute_result",
          "data": {
            "text/plain": [
              "numpy.ndarray"
            ]
          },
          "metadata": {},
          "execution_count": 34
        }
      ]
    },
    {
      "cell_type": "markdown",
      "source": [
        "analysing(getting all information) numpy array"
      ],
      "metadata": {
        "id": "MCyMzYV2TzJB"
      }
    },
    {
      "cell_type": "code",
      "source": [
        "a = np.random.randint(10,90,(5,5))\n",
        "print(a)\n",
        "#array dimension\n",
        "print(a.shape)\n",
        "#no of dimensions\n",
        "print(a.ndim)\n",
        "#no of elements in an array\n",
        "print(a.size)\n",
        "#checking data types of elements of array\n",
        "print(a.dtype)"
      ],
      "metadata": {
        "colab": {
          "base_uri": "https://localhost:8080/"
        },
        "id": "Iem0kg4JTfOl",
        "outputId": "98444271-0830-4eef-bc54-e60c8a88a14a"
      },
      "execution_count": 38,
      "outputs": [
        {
          "output_type": "stream",
          "name": "stdout",
          "text": [
            "[[61 67 83 62 22]\n",
            " [48 40 71 67 50]\n",
            " [80 27 44 86 18]\n",
            " [58 63 39 89 53]\n",
            " [26 19 58 38 70]]\n",
            "(5, 5)\n",
            "2\n",
            "25\n",
            "int64\n"
          ]
        }
      ]
    },
    {
      "cell_type": "markdown",
      "source": [
        "mathematical opeartions of np array"
      ],
      "metadata": {
        "id": "SQc1RSRDUwiY"
      }
    },
    {
      "cell_type": "code",
      "source": [
        "#list\n",
        "list1 = [1,2,3,4]\n",
        "list2 = [5,6,7,8]\n",
        "print(list1 + list2)"
      ],
      "metadata": {
        "colab": {
          "base_uri": "https://localhost:8080/"
        },
        "id": "3Z39N8tkUzCY",
        "outputId": "f691a917-6ac2-43e1-cc80-1e1add54a752"
      },
      "execution_count": 39,
      "outputs": [
        {
          "output_type": "stream",
          "name": "stdout",
          "text": [
            "[1, 2, 3, 4, 5, 6, 7, 8]\n"
          ]
        }
      ]
    },
    {
      "cell_type": "code",
      "source": [
        "#for np array\n",
        "a = np.random.randint(0,10,(3,3))\n",
        "b = np.random.randint(10,20,(3,3))\n",
        "print(a)\n",
        "print(b)\n",
        "print(a + b)#or print(np.add(a , b))\n",
        "print(a - b)\n",
        "print(a * b)\n",
        "print(a / b)"
      ],
      "metadata": {
        "colab": {
          "base_uri": "https://localhost:8080/"
        },
        "id": "o2yAqkUGUSrC",
        "outputId": "e0c810e8-8d40-4b60-8e21-a0660ddd441e"
      },
      "execution_count": 41,
      "outputs": [
        {
          "output_type": "stream",
          "name": "stdout",
          "text": [
            "[[9 8 2]\n",
            " [1 9 6]\n",
            " [9 1 7]]\n",
            "[[17 18 19]\n",
            " [16 12 13]\n",
            " [11 15 13]]\n",
            "[[26 26 21]\n",
            " [17 21 19]\n",
            " [20 16 20]]\n",
            "[[ -8 -10 -17]\n",
            " [-15  -3  -7]\n",
            " [ -2 -14  -6]]\n",
            "[[153 144  38]\n",
            " [ 16 108  78]\n",
            " [ 99  15  91]]\n",
            "[[0.52941176 0.44444444 0.10526316]\n",
            " [0.0625     0.75       0.46153846]\n",
            " [0.81818182 0.06666667 0.53846154]]\n"
          ]
        }
      ]
    },
    {
      "cell_type": "code",
      "source": [
        "#transpose\n",
        "a = np.random.randint(10,20,(2,3))\n",
        "print(a)\n",
        "trans = np.transpose(a)#trans = a. T\n",
        "print(trans)"
      ],
      "metadata": {
        "colab": {
          "base_uri": "https://localhost:8080/"
        },
        "id": "VjMpHnG0VNgi",
        "outputId": "520b8cf0-65b6-4b30-f435-ac53c048d758"
      },
      "execution_count": 45,
      "outputs": [
        {
          "output_type": "stream",
          "name": "stdout",
          "text": [
            "[[13 10 19]\n",
            " [10 11 12]]\n",
            "[[13 10]\n",
            " [10 11]\n",
            " [19 12]]\n"
          ]
        }
      ]
    },
    {
      "cell_type": "code",
      "source": [
        "#reshapping array\n",
        "a = np.random.randint(10,20,(2,3))\n",
        "print(a)\n",
        "print(a.shape)\n"
      ],
      "metadata": {
        "colab": {
          "base_uri": "https://localhost:8080/"
        },
        "id": "qHzijbsuVrhV",
        "outputId": "ab1c45cb-1679-4a12-eb07-83c45a5a3625"
      },
      "execution_count": 48,
      "outputs": [
        {
          "output_type": "stream",
          "name": "stdout",
          "text": [
            "[[14 18 13]\n",
            " [13 17 10]]\n",
            "(2, 3)\n"
          ]
        }
      ]
    },
    {
      "cell_type": "code",
      "source": [
        "b = a.reshape(3,2)\n",
        "print(b)\n",
        "print(b.reshape)\n"
      ],
      "metadata": {
        "colab": {
          "base_uri": "https://localhost:8080/"
        },
        "id": "PnTa8hzpWQUd",
        "outputId": "6d7caf79-4aae-4d77-a664-169db3048ac5"
      },
      "execution_count": 49,
      "outputs": [
        {
          "output_type": "stream",
          "name": "stdout",
          "text": [
            "[[14 18]\n",
            " [13 13]\n",
            " [17 10]]\n",
            "<built-in method reshape of numpy.ndarray object at 0x79ca97918a50>\n"
          ]
        }
      ]
    },
    {
      "cell_type": "code",
      "source": [],
      "metadata": {
        "id": "iCegNSwaWR3I"
      },
      "execution_count": null,
      "outputs": []
    }
  ]
}